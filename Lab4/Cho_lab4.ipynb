{
 "cells": [
  {
   "cell_type": "code",
   "execution_count": 1,
   "id": "041526d3",
   "metadata": {},
   "outputs": [],
   "source": [
    "import json\n",
    "import requests\n",
    "import time"
   ]
  },
  {
   "cell_type": "code",
   "execution_count": null,
   "id": "721edd70",
   "metadata": {
    "scrolled": true
   },
   "outputs": [],
   "source": [
    "stock = input()"
   ]
  },
  {
   "cell_type": "code",
   "execution_count": 3,
   "id": "fd81cac3",
   "metadata": {},
   "outputs": [],
   "source": [
    "url_quote = 'https://query1.finance.yahoo.com/v7/finance/quote'\n",
    "query_string = {\"symbols\":stock}"
   ]
  },
  {
   "cell_type": "code",
   "execution_count": 4,
   "id": "557d1716",
   "metadata": {},
   "outputs": [],
   "source": [
    "header_var ={\n",
    "    'User-Agent': 'Mozilla/5.0 (Macintosh; Intel Mac OS X 10_10_1) AppleWebKit/537.36 (KHTML, like Gecko) Chrome/39.0.2171.95 Safari/537.36'\n",
    "}\n",
    "response = requests.request(\"GET\", url_quote, headers=header_var, params=query_string)"
   ]
  },
  {
   "cell_type": "code",
   "execution_count": 5,
   "id": "b4e35530",
   "metadata": {},
   "outputs": [],
   "source": [
    "stock_json = response.json()\n",
    "# stock_json"
   ]
  },
  {
   "cell_type": "code",
   "execution_count": 6,
   "id": "dc6455a9",
   "metadata": {},
   "outputs": [],
   "source": [
    "# Name Ticker\n",
    "if stock_json['quoteResponse']['result']:\n",
    "    name_ticker = stock_json['quoteResponse']['result'][0]['symbol']"
   ]
  },
  {
   "cell_type": "code",
   "execution_count": 7,
   "id": "9a5e3e8b",
   "metadata": {},
   "outputs": [],
   "source": [
    "# Full Name of the Stock\n",
    "if stock_json['quoteResponse']['result']:\n",
    "    full_name = stock_json['quoteResponse']['result'][0]['longName']"
   ]
  },
  {
   "cell_type": "code",
   "execution_count": 8,
   "id": "d6e51fe1",
   "metadata": {},
   "outputs": [],
   "source": [
    "url_quote2 = 'https://query1.finance.yahoo.com/v10/finance/quoteSummary/'\n",
    "query_string2 = {\"symbol\":stock, \"modules\":\"financialData\"}\n",
    "response = requests.request(\"GET\", url_quote2, headers=header_var, params=query_string2)\n",
    "response.content\n",
    "stock_json2 = response.json()\n",
    "# stock_json2"
   ]
  },
  {
   "cell_type": "code",
   "execution_count": 9,
   "id": "e266b61b",
   "metadata": {},
   "outputs": [],
   "source": [
    "# current price\n",
    "if stock_json['quoteResponse']['result']:\n",
    "    current_price = stock_json2['quoteSummary']['result'][0]['financialData']['currentPrice']['fmt']"
   ]
  },
  {
   "cell_type": "code",
   "execution_count": 10,
   "id": "a6930227",
   "metadata": {},
   "outputs": [],
   "source": [
    "# target mean price\n",
    "if stock_json['quoteResponse']['result']:\n",
    "    target_mean_price = stock_json2['quoteSummary']['result'][0]['financialData']['targetMeanPrice']['fmt']"
   ]
  },
  {
   "cell_type": "code",
   "execution_count": 11,
   "id": "3e7897b2",
   "metadata": {},
   "outputs": [],
   "source": [
    "# cash on hand\n",
    "if stock_json['quoteResponse']['result']:\n",
    "    cash_on_hand = stock_json2['quoteSummary']['result'][0]['financialData']['totalCash']['fmt']"
   ]
  },
  {
   "cell_type": "code",
   "execution_count": 12,
   "id": "d0c6cb50",
   "metadata": {},
   "outputs": [],
   "source": [
    "# profit margins\n",
    "if stock_json['quoteResponse']['result']:\n",
    "    profit_margins = stock_json2['quoteSummary']['result'][0]['financialData']['profitMargins']['fmt']"
   ]
  },
  {
   "cell_type": "code",
   "execution_count": 13,
   "id": "487f141d",
   "metadata": {},
   "outputs": [],
   "source": [
    "# date of when data was pulled\n",
    "if stock_json['quoteResponse']['result']:\n",
    "    time_accessed = stock_json['quoteResponse']['result'][0][\"regularMarketTime\"]\n",
    "    time_accessed_fmt = time.strftime(\"%Y-%m-%d %H:%M:%S\", time.gmtime(time_accessed))"
   ]
  },
  {
   "cell_type": "code",
   "execution_count": 14,
   "id": "58a82ce2",
   "metadata": {},
   "outputs": [],
   "source": [
    "if stock_json['quoteResponse']['result']:\n",
    "    results = {}\n",
    "    results['results'] = [{'nameTicker': name_ticker}, {'longName': full_name}, {'targetMeanPrice': target_mean_price}, \n",
    "                      {'cashOnHand': cash_on_hand}, {'profitMargins': profit_margins}, {'dateAccessed': time_accessed_fmt}]"
   ]
  },
  {
   "cell_type": "code",
   "execution_count": 15,
   "id": "c4cb736d",
   "metadata": {},
   "outputs": [],
   "source": [
    "if stock_json['quoteResponse']['result']:\n",
    "    with open(stock + '.json', 'w') as f:\n",
    "        f.write(json.dumps(results))\n",
    "else:\n",
    "    print(\"The name ticker that was entered does not exist\")"
   ]
  }
 ],
 "metadata": {
  "kernelspec": {
   "display_name": "Python 3 (ipykernel)",
   "language": "python",
   "name": "python3"
  },
  "language_info": {
   "codemirror_mode": {
    "name": "ipython",
    "version": 3
   },
   "file_extension": ".py",
   "mimetype": "text/x-python",
   "name": "python",
   "nbconvert_exporter": "python",
   "pygments_lexer": "ipython3",
   "version": "3.9.7"
  },
  "vscode": {
   "interpreter": {
    "hash": "e9bd4bdd8f83688af0eccc949c46781fcd13989a78de02877bb0d42a50618b74"
   }
  }
 },
 "nbformat": 4,
 "nbformat_minor": 5
}
